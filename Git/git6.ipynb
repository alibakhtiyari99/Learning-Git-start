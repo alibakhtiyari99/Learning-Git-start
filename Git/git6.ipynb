{
  "nbformat": 4,
  "nbformat_minor": 0,
  "metadata": {
    "colab": {
      "provenance": [],
      "toc_visible": true,
      "authorship_tag": "ABX9TyN+d5slCsTQm1EO1eTtm5zd",
      "include_colab_link": true
    },
    "kernelspec": {
      "name": "python3",
      "display_name": "Python 3"
    },
    "language_info": {
      "name": "python"
    }
  },
  "cells": [
    {
      "cell_type": "markdown",
      "metadata": {
        "id": "view-in-github",
        "colab_type": "text"
      },
      "source": [
        "<a href=\"https://colab.research.google.com/github/alibakhtiyari99/Learning-Git-start/blob/main/git6.ipynb\" target=\"_parent\"><img src=\"https://colab.research.google.com/assets/colab-badge.svg\" alt=\"Open In Colab\"/></a>"
      ]
    },
    {
      "cell_type": "markdown",
      "source": [
        "# Singing\n",
        "\n",
        "for more secure coding and safe files we can use `gpg` that actually was `pgp` pretty good privacy that is not free.\n",
        "\n",
        "two keys generated and every commit should sign with key to identify.\n",
        "\n",
        "if `gpg` is installed, for seeing keys:\n",
        "\n",
        "    $ gpg --list-keys\n",
        "\n"
      ],
      "metadata": {
        "id": "DjhoZbLvESba"
      }
    }
  ]
}
