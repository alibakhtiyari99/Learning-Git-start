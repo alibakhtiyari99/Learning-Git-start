{
  "nbformat": 4,
  "nbformat_minor": 0,
  "metadata": {
    "colab": {
      "provenance": [],
      "toc_visible": true,
      "authorship_tag": "ABX9TyN1o1A91zUk02fsE2cTke8y",
      "include_colab_link": true
    },
    "kernelspec": {
      "name": "python3",
      "display_name": "Python 3"
    },
    "language_info": {
      "name": "python"
    }
  },
  "cells": [
    {
      "cell_type": "markdown",
      "metadata": {
        "id": "view-in-github",
        "colab_type": "text"
      },
      "source": [
        "<a href=\"https://colab.research.google.com/github/alibakhtiyari99/Learning-Git-start/blob/main/git1.ipynb\" target=\"_parent\"><img src=\"https://colab.research.google.com/assets/colab-badge.svg\" alt=\"Open In Colab\"/></a>"
      ]
    },
    {
      "cell_type": "markdown",
      "source": [
        "main site = https://git-scm.com/\n",
        "\n",
        "\n",
        "---\n",
        "\n"
      ],
      "metadata": {
        "id": "_efmONMsRsKX"
      }
    },
    {
      "cell_type": "markdown",
      "source": [
        "# 1.Download git"
      ],
      "metadata": {
        "id": "DJq5EavdRRtK"
      }
    },
    {
      "cell_type": "markdown",
      "source": [
        "to download:\n",
        "\n",
        "1- open CMD\n",
        "\n",
        "2- use winget library (initially installed in Windows)\n",
        "\n",
        "3- write line command:**bold text**"
      ],
      "metadata": {
        "id": "Sr2m--7PIeQ_"
      }
    },
    {
      "cell_type": "markdown",
      "source": [
        "\n",
        "\n",
        "```\n",
        "winget install --id Git.Git -e --source winget```\n",
        "\n"
      ],
      "metadata": {
        "id": "BDVuXP4PLP1D"
      }
    },
    {
      "cell_type": "markdown",
      "source": [
        "*after installing should close and reopen CMD to confirm."
      ],
      "metadata": {
        "id": "SZgGA0k4KO2y"
      }
    },
    {
      "cell_type": "markdown",
      "source": [
        "all prompts in Git starts with \"git\" + order"
      ],
      "metadata": {
        "id": "DgPT0-kIKaAe"
      }
    },
    {
      "cell_type": "markdown",
      "source": [
        "\n",
        "\n",
        "```\n",
        "git ...\n",
        "```\n",
        "\n"
      ],
      "metadata": {
        "id": "O_gncD5OLNHZ"
      }
    },
    {
      "cell_type": "markdown",
      "source": [
        "# 2.Git Help"
      ],
      "metadata": {
        "id": "cjzVoIC8SXz4"
      }
    },
    {
      "cell_type": "markdown",
      "source": [
        "use this command for git help:"
      ],
      "metadata": {
        "id": "yc5pnjo_KsSF"
      }
    },
    {
      "cell_type": "markdown",
      "source": [
        "\n",
        "\n",
        "```\n",
        "git --help\n",
        "```\n",
        "\n"
      ],
      "metadata": {
        "id": "5lDMWuCXLF-x"
      }
    },
    {
      "cell_type": "markdown",
      "source": [
        "\n",
        "\n",
        "```\n",
        "usage: git [-v | --version] [-h | --help] [-C <path>] [-c <name>=<value>]\n",
        "           [--exec-path[=<path>]] [--html-path] [--man-path] [--info-path]\n",
        "           [-p | --paginate | -P | --no-pager] [--no-replace-objects] [--no-lazy-fetch]\n",
        "           [--no-optional-locks] [--no-advice] [--bare] [--git-dir=<path>]\n",
        "           [--work-tree=<path>] [--namespace=<name>] [--config-env=<name>=<envvar>]\n",
        "           <command> [<args>]\n",
        "\n",
        "These are common Git commands used in various situations:\n",
        "\n",
        "start a working area (see also: git help tutorial)\n",
        "   clone      Clone a repository into a new directory\n",
        "   init       Create an empty Git repository or reinitialize an existing one\n",
        "\n",
        "work on the current change (see also: git help everyday)\n",
        "   add        Add file contents to the index\n",
        "   mv         Move or rename a file, a directory, or a symlink\n",
        "   restore    Restore working tree files\n",
        "   rm         Remove files from the working tree and from the index\n",
        "\n",
        "examine the history and state (see also: git help revisions)\n",
        "   bisect     Use binary search to find the commit that introduced a bug\n",
        "   diff       Show changes between commits, commit and working tree, etc\n",
        "   grep       Print lines matching a pattern\n",
        "   log        Show commit logs\n",
        "   show       Show various types of objects\n",
        "   status     Show the working tree status\n",
        "\n",
        "grow, mark and tweak your common history\n",
        "   backfill   Download missing objects in a partial clone\n",
        "   branch     List, create, or delete branches\n",
        "   commit     Record changes to the repository\n",
        "   merge      Join two or more development histories together\n",
        "   rebase     Reapply commits on top of another base tip\n",
        "   reset      Reset current HEAD to the specified state\n",
        "   switch     Switch branches\n",
        "   tag        Create, list, delete or verify a tag object signed with GPG\n",
        "\n",
        "collaborate (see also: git help workflows)\n",
        "   fetch      Download objects and refs from another repository\n",
        "   pull       Fetch from and integrate with another repository or a local branch\n",
        "   push       Update remote refs along with associated objects\n",
        "\n",
        "'git help -a' and 'git help -g' list available subcommands and some\n",
        "concept guides. See 'git help <command>' or 'git help <concept>'\n",
        "to read about a specific subcommand or concept.\n",
        "See 'git help git' for an overview of the system.```\n",
        "\n"
      ],
      "metadata": {
        "id": "DZ7OGXlTK3EG"
      }
    },
    {
      "cell_type": "markdown",
      "source": [
        "# 3.CMD brief locating"
      ],
      "metadata": {
        "id": "eqZe1cwuSyxN"
      }
    },
    {
      "cell_type": "markdown",
      "source": [
        "first open CMD it open in default directory.\n",
        "\n",
        "for going a folder back:\n",
        "```\n",
        ">cd ..\n",
        "```\n",
        "for going in a specific folder:\n",
        "```\n",
        ">cd C:\\...\\folder\n",
        "```\n",
        "for example to go in  other Drive:\n",
        "```\n",
        ">D:\n",
        "```\n",
        "or\n",
        "```\n",
        ">E:\n",
        "```\n"
      ],
      "metadata": {
        "id": "T1w1NExmTc7p"
      }
    }
  ]
}