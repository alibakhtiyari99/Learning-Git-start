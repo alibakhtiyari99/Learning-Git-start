{
  "nbformat": 4,
  "nbformat_minor": 0,
  "metadata": {
    "colab": {
      "provenance": [],
      "toc_visible": true,
      "authorship_tag": "ABX9TyNlbIlVY/pf/iCiHxBYRVJG",
      "include_colab_link": true
    },
    "kernelspec": {
      "name": "python3",
      "display_name": "Python 3"
    },
    "language_info": {
      "name": "python"
    }
  },
  "cells": [
    {
      "cell_type": "markdown",
      "metadata": {
        "id": "view-in-github",
        "colab_type": "text"
      },
      "source": [
        "<a href=\"https://colab.research.google.com/github/alibakhtiyari99/Learning-Git-start/blob/main/git5.ipynb\" target=\"_parent\"><img src=\"https://colab.research.google.com/assets/colab-badge.svg\" alt=\"Open In Colab\"/></a>"
      ]
    },
    {
      "cell_type": "markdown",
      "source": [
        "# Remote\n",
        "\n",
        "remote is somewhere that a code can be saved in internet.\n",
        "\n",
        "for example `github` can be remote place.\n",
        "\n",
        "the default name for remote is `origin`. for more details of remote use this command:\n",
        "\n",
        "    $ git remote\n",
        "\n",
        "```\n",
        "aliba@Ali-VivoBook MINGW64 ~/newfolder/titap_mystry (master)\n",
        "$ git remote\n",
        "origin\n",
        "```\n",
        "\n",
        "another command can add sth:\n",
        "\n",
        "    $ git remote add orogin https://\n",
        "\n",
        "```\n",
        "aliba@Ali-VivoBook MINGW64 ~/newfolder/titap_mystry (master)\n",
        "$ git remote add test https://github.com/test-repo/\n",
        "\n",
        "aliba@Ali-VivoBook MINGW64 ~/newfolder/titap_mystry (master)\n",
        "$ git remote\n",
        "origin\n",
        "test\n",
        "\n",
        "aliba@Ali-VivoBook MINGW64 ~/newfolder/titap_mystry (master)\n",
        "$ git remote -v\n",
        "origin  https://github.com/jadijadi/titap_mystry.git (fetch)\n",
        "origin  https://github.com/jadijadi/titap_mystry.git (push)\n",
        "test    https://github.com/test-repo/ (fetch)\n",
        "test    https://github.com/test-repo/ (push)\n",
        "```\n",
        "\n",
        "command `-v` explain more. and now we try to push `master` to `test`:\n",
        "\n",
        "    $ git push -u test master\n",
        "\n",
        "that here cant find repository `test_repo`!\n",
        "\n",
        "we can push project to multiple places. for example push to `github` and `gitlab` and `company git`."
      ],
      "metadata": {
        "id": "Z9R0gkGL2sXs"
      }
    },
    {
      "cell_type": "markdown",
      "source": [
        "# Conflicts\n",
        "\n",
        "when two partners work on same code on different computers, until no one push anything there is no problem, but when two persons edit same file and wants to push, second person interface a `conflict` error.\n",
        "\n",
        "\n",
        "when there is conflict `git` try to solve it and finally if it cant do anything wants your help.\n"
      ],
      "metadata": {
        "id": "j0gohFoJ6HPr"
      }
    },
    {
      "cell_type": "markdown",
      "source": [
        "# git show\n",
        "\n",
        "for see what happend to a commit we can copy name of it and use this:\n",
        "\n",
        "    $ git log\n",
        "\n",
        "```\n",
        "$ git show 2314t28423y726472462\n",
        "```"
      ],
      "metadata": {
        "id": "bx9AU2jTAIdZ"
      }
    },
    {
      "cell_type": "markdown",
      "source": [
        "# Tag\n",
        "\n",
        "we can use tagging to remember versions for example.\n",
        "\n",
        "    $ git tag -a v2.0 -m 'first version with tag. this is what we are running for a long time.'\n",
        "\n",
        "for see tags:\n",
        "\n",
        "    $ git tag\n",
        "\n",
        "for tagging an older commit use this:\n",
        "\n",
        "    $ git tag -a v1.8 d22394834 -m 'fix soething'\n",
        "\n",
        "for see what is a tag:\n",
        "\n",
        "    $ git show v1.8\n",
        "\n",
        "for searching between tags:\n",
        "\n",
        "    $ git tah -l \"v*\"\n",
        "\n",
        "usually tags never `push` or need to commit, but if we want to send them to `network` use this:\n",
        "\n",
        "    $ git push origin v1.8\n",
        "\n",
        "or for all:\n",
        "\n",
        "    $ git push origin --tags\n",
        "\n"
      ],
      "metadata": {
        "id": "6vUaf9Xt__V0"
      }
    }
  ]
}