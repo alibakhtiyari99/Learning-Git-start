{
  "nbformat": 4,
  "nbformat_minor": 0,
  "metadata": {
    "colab": {
      "provenance": [],
      "authorship_tag": "ABX9TyPUukEJVi+Qaf/TZJDr/MoT",
      "include_colab_link": true
    },
    "kernelspec": {
      "name": "python3",
      "display_name": "Python 3"
    },
    "language_info": {
      "name": "python"
    }
  },
  "cells": [
    {
      "cell_type": "markdown",
      "metadata": {
        "id": "view-in-github",
        "colab_type": "text"
      },
      "source": [
        "<a href=\"https://colab.research.google.com/github/alibakhtiyari99/Learning-Git-start/blob/main/SteelPriceApp.ipynb\" target=\"_parent\"><img src=\"https://colab.research.google.com/assets/colab-badge.svg\" alt=\"Open In Colab\"/></a>"
      ]
    },
    {
      "cell_type": "code",
      "execution_count": null,
      "metadata": {
        "id": "UECm_5TbF0gV"
      },
      "outputs": [],
      "source": [
        "import tkinter as tk\n",
        "from tkinter import ttk\n",
        "from ttkthemes import ThemedTk\n",
        "import requests\n",
        "from bs4 import BeautifulSoup\n",
        "import pygame"
      ]
    },
    {
      "cell_type": "markdown",
      "source": [
        "Libraries That We need"
      ],
      "metadata": {
        "id": "055eMXBjGMEa"
      }
    },
    {
      "cell_type": "code",
      "source": [
        "# Initialize pygame mixer for sound effects\n",
        "pygame.mixer.init()\n",
        "\n",
        "# Function to play a click sound\n",
        "def play_click_sound():\n",
        "    pygame.mixer.Sound(\"click.wav\").play()\n",
        "\n",
        "# URLs of the target pages\n",
        "urls = {\n",
        "    \"AhanOnline\": \"https://ahanonline.com/product-category/%D9%85%DB%8C%D9%84%DA%AF%D8%B1%D8%AF/%D9%82%DB%8C%D9%85%D8%AA-%D9%85%DB%8C%D9%84%DA%AF%D8%B1%D8%AF/\",\n",
        "    \"Pivan\": \"https://pivan.co/product-category/rebar/\",\n",
        "    \"AhanPakhsh\": \"https://www.ahanpakhsh.com/round-bar/ribbed-round-bar\"\n",
        "}\n",
        "\n",
        "# Headers to simulate a real browser request\n",
        "headers = {\n",
        "    \"User-Agent\": \"Mozilla/5.0 (Macintosh; Intel Mac OS X 10_15_7) AppleWebKit/537.36 (KHTML, like Gecko) Chrome/110.0.0.0 Safari/537.36\"\n",
        "}\n",
        "\n",
        "# Function to convert Persian numbers to English numbers\n",
        "def convert_persian_to_english(persian_number):\n",
        "    persian_digits = \"۰۱۲۳۴۵۶۷۸۹\"\n",
        "    english_digits = \"0123456789\"\n",
        "    translation_table = str.maketrans(persian_digits, english_digits)\n",
        "    return persian_number.translate(translation_table)\n",
        "\n",
        "# Function to extract prices from AhanOnline\n",
        "def get_prices_from_ahanonline(url):\n",
        "    response = requests.get(url, headers=headers)\n",
        "    prices = []\n",
        "    if response.status_code == 200:\n",
        "        soup = BeautifulSoup(response.text, \"html.parser\")\n",
        "        price_elements = soup.find_all(\"div\", class_=\"text-[#35332E] font-Bold product-price text-[18px]\")\n",
        "        for price in price_elements[:9]:\n",
        "            price_text = price.text.strip()\n",
        "            if price_text in [\"-\", \"تماس بگیرید\"]:\n",
        "                prices.append(price_text)\n",
        "            else:\n",
        "                prices.append(convert_persian_to_english(price_text))\n",
        "    return prices\n",
        "\n",
        "# Function to extract prices from Pivan\n",
        "def get_prices_from_pivan(url):\n",
        "    response = requests.get(url, headers=headers)\n",
        "    prices = []\n",
        "    if response.status_code == 200:\n",
        "        soup = BeautifulSoup(response.text, \"html.parser\")\n",
        "        price_elements = soup.find_all(\"span\", class_=\"toggle-price-when-check font-black text-black ex-tax\")\n",
        "        for price in price_elements[:9]:\n",
        "            price_text = price.text.strip()\n",
        "            if price_text in [\"-\", \"تماس بگیرید\"]:\n",
        "                prices.append(price_text)\n",
        "            else:\n",
        "                prices.append(convert_persian_to_english(price_text))\n",
        "    return prices\n",
        "\n",
        "# Function to extract prices from AhanPakhsh\n",
        "def get_prices_from_ahanpakhsh(url):\n",
        "    response = requests.get(url, headers=headers)\n",
        "    prices = []\n",
        "    if response.status_code == 200:\n",
        "        soup = BeautifulSoup(response.text, \"html.parser\")\n",
        "        price_elements = soup.find_all(\"span\", class_=\"hikashop_product_price hikashop_product_price_0\")\n",
        "        for price in price_elements[:9]:\n",
        "            price_text = price.text.strip().replace(\" تومان\", \"\")\n",
        "            if price_text in [\"-\", \"تماس بگیرید\"]:\n",
        "                prices.append(price_text)\n",
        "            else:\n",
        "                prices.append(convert_persian_to_english(price_text))\n",
        "    return prices"
      ],
      "metadata": {
        "id": "ib26koLiGPJh"
      },
      "execution_count": null,
      "outputs": []
    },
    {
      "cell_type": "markdown",
      "source": [
        "In the first part of the code, we use the `pygame` library to define a function that plays the \"Click.wav\" sound when called.  \n",
        "\n",
        "Next, we specify the websites from which we want to retrieve data. After that, we define functions to extract the price from these websites using the `requests` library.  \n",
        "\n",
        "To achieve this, we need to visit the website, right-click on the price, select `Inspect`, and then use the extracted information in our Python code."
      ],
      "metadata": {
        "id": "UKFrd3T9IcIr"
      }
    },
    {
      "cell_type": "code",
      "source": [
        "# Function to show prices based on the selected website and size\n",
        "def show_prices():\n",
        "    play_click_sound()  # Play click sound\n",
        "\n",
        "    selected_website = website_combobox.get()\n",
        "    selected_size = size_combobox.get()\n",
        "\n",
        "    if selected_website == \"AhanOnline\":\n",
        "        prices = get_prices_from_ahanonline(urls[\"AhanOnline\"])\n",
        "    elif selected_website == \"Pivan\":\n",
        "        prices = get_prices_from_pivan(urls[\"Pivan\"])\n",
        "    elif selected_website == \"AhanPakhsh\":\n",
        "        prices = get_prices_from_ahanpakhsh(urls[\"AhanPakhsh\"])\n",
        "\n",
        "    size_index = size_combobox.current()\n",
        "\n",
        "    if prices and size_index < len(prices):\n",
        "        price = prices[size_index]\n",
        "        prices_label.config(text=f\"Price for size {selected_size}: {price}\")\n",
        "    else:\n",
        "        prices_label.config(text=\"No price found for this size.\")\n",
        "\n",
        "    # Store the price for use in the second tab\n",
        "    price_entry.delete(0, tk.END)\n",
        "    price_entry.insert(0, prices[size_index])\n",
        "\n",
        "# Function to calculate total price\n",
        "def calculate_total_price():\n",
        "    play_click_sound()\n",
        "    try:\n",
        "        # Remove any non-numeric characters (except dot for decimal numbers)\n",
        "        price_text = ''.join(c for c in price_entry.get() if c.isdigit() or c == '.')\n",
        "        weight_text = ''.join(c for c in weight_entry.get() if c.isdigit() or c == '.')\n",
        "\n",
        "        if not price_text or not weight_text:\n",
        "            total_label.config(text=\"Please enter valid numbers!\")\n",
        "            return\n",
        "\n",
        "        price = float(price_text)\n",
        "        weight = float(weight_text)\n",
        "        total = price * weight\n",
        "        total_label.config(text=f\"Total Price: {total:,.0f} Toman\")\n",
        "\n",
        "    except ValueError:\n",
        "        total_label.config(text=\"Invalid input! Enter numbers only.\")\n",
        "\n",
        "\n",
        "def reset_fields():\n",
        "    website_combobox.set(\"Select Website\")\n",
        "    size_combobox.set(\"Select Size\")\n",
        "    weight_entry.delete(0, tk.END)\n",
        "    price_entry.delete(0, tk.END)\n",
        "    total_label.config(text=\"\")"
      ],
      "metadata": {
        "id": "gCnckcEhJ3jD"
      },
      "execution_count": null,
      "outputs": []
    },
    {
      "cell_type": "code",
      "source": [
        "# Create main window\n",
        "root = ThemedTk()\n",
        "root.set_theme(\"breeze\")\n",
        "root.iconbitmap(\"Logo.ico\")\n",
        "root.title(\"Steel Total Price\")\n",
        "root.geometry(\"500x500\")\n",
        "\n",
        "# Create Notebook (tabs)\n",
        "notebook = ttk.Notebook(root)\n",
        "notebook.pack(expand=True, fill=\"both\")\n",
        "\n",
        "# First tab (Price Extraction)\n",
        "tab1 = ttk.Frame(notebook)\n",
        "notebook.add(tab1, text=\"Price Finder\")\n",
        "\n",
        "instruction_label = tk.Label(tab1, text=\"Select a website and size of rebar:\")\n",
        "instruction_label.pack(pady=10)\n",
        "\n",
        "website_combobox = ttk.Combobox(tab1, values=[\"AhanOnline\", \"Pivan\", \"AhanPakhsh\"])\n",
        "website_combobox.set(\"Select Website\")\n",
        "website_combobox.pack(pady=10)\n",
        "\n",
        "size_combobox = ttk.Combobox(tab1, values=[\"12\", \"14\", \"16\", \"18\", \"20\", \"22\", \"25\", \"28\", \"32\"])\n",
        "size_combobox.set(\"Select Size\")\n",
        "size_combobox.pack(pady=10)\n",
        "\n",
        "show_button = tk.Button(tab1, text=\"Show Price\", command=show_prices)\n",
        "show_button.pack(pady=10)\n",
        "show_button.bind(\"<Enter>\", lambda e: show_button.config(bg=\"#00bfff\"))\n",
        "show_button.bind(\"<Leave>\", lambda e: show_button.config(bg=\"#F0F0F0\"))\n",
        "\n",
        "prices_label = tk.Label(tab1, text=\"\", justify=tk.LEFT)\n",
        "prices_label.pack(pady=20)\n",
        "\n",
        "\n",
        "reset_button = tk.Button(root, text=\"Reset\", command=reset_fields)\n",
        "reset_button.pack(pady=10)\n",
        "\n",
        "# Second tab (Weight Calculation)\n",
        "tab2 = ttk.Frame(notebook)\n",
        "notebook.add(tab2, text=\"Total Price Calculator\")\n",
        "\n",
        "tk.Label(tab2, text=\"Enter Weight (kg):\").pack(pady=5)\n",
        "weight_entry = tk.Entry(tab2)\n",
        "weight_entry.pack(pady=5)\n",
        "\n",
        "tk.Label(tab2, text=\"Price per kg:\").pack(pady=5)\n",
        "price_entry = tk.Entry(tab2)\n",
        "price_entry.pack(pady=5)\n",
        "\n",
        "calculate_button = tk.Button(tab2, text=\"Calculate Total Price\", command=calculate_total_price)\n",
        "calculate_button.pack(pady=10)\n",
        "calculate_button.bind(\"<Enter>\", lambda e: calculate_button.config(bg=\"#00bfff\"))\n",
        "calculate_button.bind(\"<Leave>\", lambda e: calculate_button.config(bg=\"#F0F0F0\"))\n",
        "\n",
        "total_label = tk.Label(tab2, text=\"\", font=(\"Arial\", 12, \"bold\"))\n",
        "total_label.pack(pady=10)\n",
        "\n",
        "root.mainloop()\n"
      ],
      "metadata": {
        "id": "9h0JVfFoK4yL"
      },
      "execution_count": null,
      "outputs": []
    },
    {
      "cell_type": "markdown",
      "source": [
        "At this stage, we use the `tkinter` library to define a UI window for the software.  \n",
        "\n",
        "Then, using `ttk.Notebook`, we create tabs for the application.  \n",
        "\n",
        "Each tab contains buttons that, when clicked, call the corresponding function to either display the price or calculate the total price."
      ],
      "metadata": {
        "id": "PPWibO3WObDT"
      }
    }
  ]
}