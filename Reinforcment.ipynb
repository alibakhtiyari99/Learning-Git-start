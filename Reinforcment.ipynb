{
  "nbformat": 4,
  "nbformat_minor": 0,
  "metadata": {
    "colab": {
      "provenance": [],
      "authorship_tag": "ABX9TyPKgF31ANJP50ykAaOs5gXA",
      "include_colab_link": true
    },
    "kernelspec": {
      "name": "python3",
      "display_name": "Python 3"
    },
    "language_info": {
      "name": "python"
    }
  },
  "cells": [
    {
      "cell_type": "markdown",
      "metadata": {
        "id": "view-in-github",
        "colab_type": "text"
      },
      "source": [
        "<a href=\"https://colab.research.google.com/github/alibakhtiyari99/Learning-Git-start/blob/main/Reinforcment.ipynb\" target=\"_parent\"><img src=\"https://colab.research.google.com/assets/colab-badge.svg\" alt=\"Open In Colab\"/></a>"
      ]
    },
    {
      "cell_type": "code",
      "execution_count": null,
      "metadata": {
        "id": "zVvaYJKM_-Hg"
      },
      "outputs": [],
      "source": [
        "import comtypes.client\n",
        "import math\n",
        "from sympy import symbols, Eq, solve\n",
        "import pandas as pd"
      ]
    },
    {
      "cell_type": "markdown",
      "source": [
        "These are libraries that we need. `comtypes` for connecting to ETABS, `math` for Mathematical operations, `sympy` for Equations and `pandas` for export datas to excel"
      ],
      "metadata": {
        "id": "CrMo2I9EALTf"
      }
    },
    {
      "cell_type": "code",
      "source": [
        "try:\n",
        "    myETABSObject = comtypes.client.GetActiveObject(\"CSI.ETABS.API.ETABSObject\")\n",
        "    SapModel = myETABSObject.SapModel\n",
        "    print(\"✅ Connected to ETABS successfully.\")\n",
        "except Exception as e:\n",
        "    print(f\"❌ Failed to connect to ETABS: {e}\")\n",
        "    exit()\n"
      ],
      "metadata": {
        "id": "yQuzJXsmAULG"
      },
      "execution_count": null,
      "outputs": []
    },
    {
      "cell_type": "markdown",
      "source": [
        "In this section we cintrol that python can connect to ETABS or not"
      ],
      "metadata": {
        "id": "NpDD5Sd2Ac3G"
      }
    },
    {
      "cell_type": "code",
      "source": [
        "# Get table data\n",
        "NumberTables = 1\n",
        "TableKey = []\n",
        "TableName = []\n",
        "ImportType = []\n",
        "\n",
        "# This shows all the available tables that can be accessed\n",
        "ret = SapModel.DatabaseTables.GetAvailableTables(NumberTables,TableKey, TableName, ImportType)\n",
        "\n",
        "TableKey = 'Concrete Beam Design Summary - ACI 318-19'\n",
        "FieldKeyList = []\n",
        "\n",
        "# set the group you want the results for, you can pick either 'All', 'Left Nodes', 'Right Nodes'\n",
        "GroupName = ''\n",
        "TableVersion = 1\n",
        "FieldsKeysIncluded = []\n",
        "NumberRecords = 1\n",
        "TableData = []\n",
        "\n",
        "BeamInf = SapModel.DatabaseTables.GetTableforDisplayArray(TableKey, FieldKeyList, GroupName, TableVersion, FieldsKeysIncluded, NumberRecords, TableData)"
      ],
      "metadata": {
        "id": "RegBKP1nEXSf"
      },
      "execution_count": null,
      "outputs": []
    },
    {
      "cell_type": "markdown",
      "source": [
        "Now Based on the ETABS API documentation, we first use the `DatabaseTables.GetAvailableTables` class to retrieve all accessible tables and store them in `ret`. Then, in the next step, we specify the desired table and use the `DatabaseTables.GetTableForDisplayArray` class to extract the required data and store it in `BeamInf`."
      ],
      "metadata": {
        "id": "186gQGa8EqHm"
      }
    },
    {
      "cell_type": "code",
      "source": [
        "TableKey = 'Frame Section Property Definitions - Concrete Beam Reinforcing'\n",
        "FieldKeyList = []\n",
        "\n",
        "\n",
        "GroupName = ''\n",
        "TableVersion = 1\n",
        "FieldsKeysIncluded = []\n",
        "NumberRecords = 1\n",
        "TableData = []\n",
        "\n",
        "CoverInf = SapModel.DatabaseTables.GetTableforDisplayArray(TableKey, FieldKeyList, GroupName, TableVersion, FieldsKeysIncluded, NumberRecords, TableData)\n",
        "cover = int(CoverInf[4][3])"
      ],
      "metadata": {
        "id": "OQqHdAh8IEy3"
      },
      "execution_count": null,
      "outputs": []
    },
    {
      "cell_type": "markdown",
      "source": [
        "Like previous text we can use `DatabaseTables.GetTableforDisplayArray` to extract Beams Cover"
      ],
      "metadata": {
        "id": "8rKD_7jJJJQA"
      }
    },
    {
      "cell_type": "code",
      "source": [
        "design=BeamInf[-2]\n",
        "Rows=len(BeamInf[2])\n",
        "DesignInf = tuple(design[i:i+Rows] for i in range(0, len(design), Rows))\n",
        "\n",
        "Bot = {}\n",
        "Top = {}\n",
        "# Extract Each Beam Rebars\n",
        "for item in DesignInf:\n",
        "    group = item[1]  # Beam Label\n",
        "    number = item[-4]  # As Bot\n",
        "    number1 = item[-5]  # As Top\n",
        "\n",
        "    # Making New List For New Beam\n",
        "    if group not in Bot:\n",
        "        Bot[group] = []\n",
        "\n",
        "    Bot[group].append(number)\n",
        "\n",
        "    if group not in Top:\n",
        "        Top[group] = []\n",
        "\n",
        "    Top[group].append(number1)\n",
        "\n",
        "# Top Rebars & Bot Rebars In a List\n",
        "Beams=[]\n",
        "TopR=[]\n",
        "BotR=[]\n",
        "for group, numbers in Bot.items():\n",
        "    Beams.append(group)\n",
        "    BotR.append(numbers)\n",
        "\n",
        "for group, numbers in Top.items():\n",
        "    TopR.append(numbers)\n",
        "\n",
        "#  Making Numbers Integer\n",
        "TopRebar = [[int(x) for x in sublist] for sublist in TopR]\n",
        "BotRebar = [[int(x) for x in sublist] for sublist in BotR]"
      ],
      "metadata": {
        "id": "vmQtYV-qK5cA"
      },
      "execution_count": null,
      "outputs": []
    },
    {
      "cell_type": "markdown",
      "source": [
        "At this stage, the required data stored in BeamInf, specifically array [-2], is first saved in design. Then, the information related to each row of the table is placed in a separate tuple to facilitate easier access.\n",
        "\n",
        "Next, the data related to the required reinforcement areas for the top and bottom of each beam is stored. Finally, this data is converted into integers."
      ],
      "metadata": {
        "id": "Kga2d15PMp7n"
      }
    },
    {
      "cell_type": "code",
      "source": [
        "# Longitudinal\n",
        "\n",
        "RebarAs=[]\n",
        "LongRebarAsTop=[]\n",
        "for i in range(len(TopRebar)):\n",
        "\n",
        "    if (math.ceil(len(TopRebar[i])/3)) % 2 !=0:\n",
        "        Decision_SPoint=(math.ceil(len(TopRebar[i])/3))\n",
        "    else:\n",
        "        Decision_SPoint=(math.ceil(len(TopRebar[i])/3))-1\n",
        "\n",
        "    Decision_EPoint=(len(TopRebar[i]))-(Decision_SPoint)\n",
        "    LongRebarRange=TopRebar[i][Decision_SPoint:Decision_EPoint]\n",
        "    LongRebar=max(LongRebarRange)\n",
        "    LongRebarAsTop.append(LongRebar)\n",
        "    OtherRebar1=TopRebar[i][0:Decision_SPoint]\n",
        "    OtherRebar2=TopRebar[i][Decision_EPoint:]\n",
        "    o1=max(OtherRebar1)\n",
        "    o2=max(OtherRebar2)\n",
        "    RebarAs.append([o1,o2])"
      ],
      "metadata": {
        "id": "cBAV64F_NttR"
      },
      "execution_count": null,
      "outputs": []
    },
    {
      "cell_type": "markdown",
      "source": [
        "After determining the reinforcement area for each beam, the next step is to specify the area for which the continuous reinforcement should be designed. To achieve this, based on the number of design stations for each beam, the maximum mid-span reinforcement area is selected as the required area for continuous reinforcement design.\n",
        "\n",
        "In the following steps, if necessary, additional reinforcement is provided at the beam's start and end."
      ],
      "metadata": {
        "id": "9l0el3pWO72q"
      }
    },
    {
      "cell_type": "code",
      "source": [
        "# Number & Diameters\n",
        "RebarList = [14 ,16 ,18 ,20 ,22 ,25 ,28 ,30 ,32]\n",
        "User_d=input(\"Please Enter Your Custom Rebar Size For Top-Rebars(mm) (if You dont want, please enter ('All')) : \")\n",
        "\n",
        "Report=[]\n",
        "As=[]\n",
        "if User_d == 'All' or User_d == 'all':\n",
        "    for i in range (len(LongRebarAsTop)):\n",
        "        for n in range (2,11,1) :\n",
        "            x = symbols('x')\n",
        "            eq = Eq(n*((math.pi * x**2)/4),LongRebarAsTop[i] )\n",
        "            d1 = solve(eq, x)\n",
        "            d1=d1[1]\n",
        "            greater_numbers = [x for x in RebarList if x > d1]\n",
        "            d = (min(greater_numbers) if greater_numbers else None)\n",
        "            Scentre=(((width-2*cover)-(n*d))/(n-1))\n",
        "            S=Scentre-d\n",
        "            Smin=min(25,d)\n",
        "            if S>Smin and S<200:\n",
        "                Report.append(f\"For {Beams[i]} Use {n}ϕ {d} & Rebar Free Spaces Are: {S}\")\n",
        "                As.append(n*(math.pi * d**2)/4)\n",
        "                break\n",
        "            else:\n",
        "                continue\n",
        "\n",
        "else:\n",
        "    try:\n",
        "        d = int(User_d)\n",
        "        for i in range(len(LongRebarAsTop)):\n",
        "            x = symbols('x')\n",
        "            eq = Eq(x * ((math.pi * d**2) / 4), LongRebarAsTop[i])\n",
        "            n = solve(eq, x)\n",
        "            n = math.ceil(n[0])\n",
        "            if n == 1:\n",
        "                n = 2\n",
        "            Scentre = (((width - 2 * cover) - (n * d)) / (n - 1))\n",
        "            S=Scentre-d\n",
        "            Smin = min(25, d)\n",
        "            if S > Smin and S < 200:\n",
        "                Report.append(f\"For {Beams[i]} Use {n}ϕ {d} @ {S}\")\n",
        "                As.append(n * (math.pi * d**2) / 4)\n",
        "            else:\n",
        "                Report.append(f\"❌Error in Design Code Space\")\n",
        "    except ValueError:\n",
        "        print(\"Invalid input! Please enter a valid number or 'All'.\")"
      ],
      "metadata": {
        "id": "1HhkDdsrPtvx"
      },
      "execution_count": null,
      "outputs": []
    },
    {
      "cell_type": "markdown",
      "source": [
        "In this section, the code asks the user whether they have a specific reinforcement diameter in mind or if they want to leave the selection to the predefined code logic. After that, by solving the required equation and calculating the number and diameter of the reinforcement bars, the outputs are stored in the Report."
      ],
      "metadata": {
        "id": "d_uh04c4Py5J"
      }
    },
    {
      "cell_type": "code",
      "source": [
        "# Additional\n",
        "ReportAdditionalTop = [[] for _ in range(len(Beams))]\n",
        "for i in range (len(LongRebarAsTop)):\n",
        "    RequierdAsLeft=RebarAs[i][0]-As[i]\n",
        "    RequierdAsRight=RebarAs[i][1]-As[i]\n",
        "    if RequierdAsLeft<=0:\n",
        "        ReportAdditionalTop[i].append(f\"You Dont Need Any Additional Rebar for Left of {Beams[i]} \")\n",
        "    elif RequierdAsLeft<150 :\n",
        "        ReportAdditionalTop[i].append(\"Please Increase Your Longitudinal Reinforcing\")\n",
        "    else :\n",
        "        for n in range (1,11,1) :\n",
        "            x = symbols('x')\n",
        "            eq = Eq(n*((math.pi * x**2)/4),RequierdAsLeft)\n",
        "            d1 = solve(eq, x)\n",
        "            d1=d1[1]\n",
        "            greater_numbers = [x for x in RebarList if x > d1]\n",
        "            d = (min(greater_numbers) if greater_numbers else None)\n",
        "            if n==1:\n",
        "                ReportAdditionalTop[i].append(f\"Add {n}ϕ {d} For Left {Beams[i]}\")\n",
        "            else:\n",
        "                Scentre=(((width-2*cover)-(n*d))/(n-1))\n",
        "                S=Scentre-d\n",
        "                Smin=min(25,d)\n",
        "                if S>Smin and S<200:\n",
        "                    ReportAdditionalTop[i].append(f\"Add {n}ϕ {d} For Left {Beams[i]}\")\n",
        "                    break\n",
        "                else:\n",
        "                    continue\n",
        "\n",
        "    if RequierdAsRight<=0:\n",
        "        ReportAdditionalTop[i].append(f\"You Dont Need Any Additional Rebar for Right of {Beams[i]} \")\n",
        "    elif RequierdAsRight<150 :\n",
        "        ReportAdditionalTop[i].append(\"Please Increase Your Longitudinal Reinforcing\")\n",
        "    else :\n",
        "        for n in range (1,11,1) :\n",
        "            x = symbols('x')\n",
        "            eq = Eq(n*((math.pi * x**2)/4),RequierdAsRight)\n",
        "            d1 = solve(eq, x)\n",
        "            d1=d1[1]\n",
        "            greater_numbers = [x for x in RebarList if x > d1]\n",
        "            d = (min(greater_numbers) if greater_numbers else None)\n",
        "            if n==1:\n",
        "                ReportAdditionalTop[i].append(f\"Add {n}ϕ {d} For {Beams[i]}\")\n",
        "                break\n",
        "            else:\n",
        "                Scentre=(((width-2*cover)-(n*d))/(n-1))\n",
        "                S=Scentre-d\n",
        "                Smin=min(25,d)\n",
        "                if S>Smin and S<200:\n",
        "                    ReportAdditionalTop[i].append(f\"Add {n}ϕ {d} For {Beams[i]}\")\n",
        "                    break\n",
        "                else:\n",
        "                    continue"
      ],
      "metadata": {
        "id": "5ydn47GoQSPr"
      },
      "execution_count": null,
      "outputs": []
    },
    {
      "cell_type": "markdown",
      "source": [
        "At this stage, similar steps to the previous phase will be taken, with the key difference being that the required reinforcement area is now determined as the difference between the continuous reinforcement provided in the section and the required area at the beam's start and end. Finally, the outputs are stored in `ReportAdditionalTop`."
      ],
      "metadata": {
        "id": "JuafOzAERBmx"
      }
    },
    {
      "cell_type": "code",
      "source": [
        "file_path = \"Reinforcing.xlsx\"\n",
        "\n",
        "df1 = pd.DataFrame(Report, columns=[\"Longitudinal Reinforcing\"])\n",
        "df2 = pd.DataFrame([\" | \".join(map(str, row)) for row in ReportAdditionalTop], columns=[\"Additional Reinforcing\"])\n",
        "\n",
        "with pd.ExcelWriter(file_path, engine=\"xlsxwriter\") as writer:\n",
        "    workbook = writer.book\n",
        "    worksheet = workbook.add_worksheet(\"Reinforcing\")\n",
        "    writer.sheets[\"Reinforcing\"] = worksheet\n",
        "\n",
        "    header_format = workbook.add_format({\n",
        "        \"bold\": True,\n",
        "        \"align\": \"center\",\n",
        "        \"valign\": \"vcenter\",\n",
        "        \"fg_color\": \"#D7E4BC\",\n",
        "        \"border\": 1\n",
        "    })\n",
        "\n",
        "\n",
        "    worksheet.write(0, 0, \"Longitudinal Reinforcing\", header_format)\n",
        "    worksheet.write(0, 1, \"Additional Reinforcing\", header_format)\n",
        "\n",
        "    for row_idx, value in enumerate(df1[\"Longitudinal Reinforcing\"], start=1):\n",
        "        worksheet.write(row_idx, 0, value)\n",
        "\n",
        "    for row_idx, value in enumerate(df2[\"Additional Reinforcing\"], start=1):\n",
        "        worksheet.write(row_idx, 1, value)\n",
        "\n",
        "    worksheet.set_column(\"A:A\", 50)\n",
        "    worksheet.set_column(\"B:B\", 100)"
      ],
      "metadata": {
        "id": "wMOn8JUmRE9a"
      },
      "execution_count": null,
      "outputs": []
    },
    {
      "cell_type": "markdown",
      "source": [
        "Finally, the data is saved in an Excel file using Pandas."
      ],
      "metadata": {
        "id": "YG_4NDojRQzJ"
      }
    }
  ]
}